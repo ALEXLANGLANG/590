{
 "cells": [
  {
   "cell_type": "markdown",
   "metadata": {
    "colab_type": "text",
    "id": "Kd-Y8vx85yvG"
   },
   "source": [
    "# Training LeNet-5 on CIFAR-10\n",
    "In this notebook, we will try to deploy the famous LeNet-5 to solve a simple image classification task, the CIFAR-10. CIFAR-10 is composed of 60K images from 10 categories. After splitting the dataset, we have 45K/5K/10K images for train/valiation/test dataset.\n",
    "In this notebook, only the labels of training/validation dataset is visible to you, so you can use the training and validation data to tune your model. After you submitted your model, your final grade will be determined on the model performance on the holdout test dataset."
   ]
  },
  {
   "cell_type": "markdown",
   "metadata": {
    "colab_type": "text",
    "id": "2Gtn0r2b5yvH"
   },
   "source": [
    "### Step 0 Setting up LeNet-5 model\n",
    "As you have set up the LeNet-5 model in Homework 1, we will just move the implementation of LeNet-5 model here, so you can use it for this homework."
   ]
  },
  {
   "cell_type": "code",
   "execution_count": 58,
   "metadata": {
    "colab": {},
    "colab_type": "code",
    "id": "whxweRsF5yvI"
   },
   "outputs": [],
   "source": [
    "import argparse\n",
    "import os, sys\n",
    "import time\n",
    "import datetime\n",
    "import matplotlib.pyplot as plt\n",
    "\n",
    "\n",
    "# Import pytorch dependencies\n",
    "import torch\n",
    "import torch.nn as nn\n",
    "import torch.nn.functional as F\n",
    "import torchvision\n",
    "import torchvision.transforms as transforms\n",
    "import torch.optim as optim\n",
    "from tqdm import tqdm_notebook as tqdm"
   ]
  },
  {
   "cell_type": "code",
   "execution_count": 49,
   "metadata": {
    "colab": {},
    "colab_type": "code",
    "id": "Gz60l7D35yvL"
   },
   "outputs": [],
   "source": [
    "import math\n",
    "# Create the neural network module: LeNet-5\n",
    "def swish(x):\n",
    "      return x * F.sigmoid(x)\n",
    "\n",
    "class LeNet5(nn.Module):\n",
    "    def __init__(self):\n",
    "        super(LeNet5, self).__init__()\n",
    "        self.conv1 = nn.Conv2d(3, 6, 5)\n",
    "        self.bn1 = nn.BatchNorm2d(6)\n",
    "        self.conv2 = nn.Conv2d(6, 16, 5)\n",
    "        self.bn2 = nn.BatchNorm2d(16)\n",
    "        self.fc1   = nn.Linear(16*5*5, 120)\n",
    "        self.bn3 = nn.BatchNorm1d(120)\n",
    "        self.fc2   = nn.Linear(120, 84)\n",
    "        self.bn4 = nn.BatchNorm1d(84)\n",
    "        self.fc3   = nn.Linear(84, 10)\n",
    "        self._initialize_weights()\n",
    "\n",
    "    def forward(self, x):\n",
    "        out = F.relu(self.bn1(self.conv1(x)))\n",
    "        out = F.max_pool2d(out, 2)\n",
    "        out = F.relu(self.bn2(self.conv2(out)))\n",
    "        out = F.max_pool2d(out, 2)\n",
    "        out = out.view(out.size(0), -1)\n",
    "        out = F.relu(self.bn3(self.fc1(out)))\n",
    "        out = F.relu(self.bn4(self.fc2(out)))\n",
    "        out = self.fc3(out)\n",
    "        return out\n",
    "\n",
    "\n",
    "    def _initialize_weights(self):\n",
    "        for m in self.modules():\n",
    "            if isinstance(m, nn.Conv2d):\n",
    "                n = m.kernel_size[0] * m.kernel_size[1] * (m.in_channels + m.out_channels)\n",
    "                m.weight.data.normal_(0, math.sqrt(2. / n))\n",
    "                if m.bias is not None:\n",
    "                    m.bias.data.zero_()\n",
    "            elif isinstance(m, nn.BatchNorm2d):\n",
    "                m.weight.data.fill_(1)\n",
    "                m.bias.data.zero_()\n",
    "            elif isinstance(m, nn.Linear):\n",
    "                n = m.weight.size(1)\n",
    "                m.weight.data.normal_(0, 0.01)\n",
    "                m.bias.data.zero_() "
   ]
  },
  {
   "cell_type": "markdown",
   "metadata": {
    "colab_type": "text",
    "id": "TFf7sVuc5yvN"
   },
   "source": [
    "### Step 1: Setting up preprocessing functions.\n",
    "Preprocessing is very important because it prepares your data for proceeding training steps.\n",
    "Write functions to load dataset and preprocess the incoming data. We recommend that the preprocess scheme \\textbf{must} include normalize, standardization, batch shuffling to make sure the training \n",
    "process goes smoothly. The preprocess scheme may also contain some data augmentation methods \n",
    "(e.g., random crop, random flip, etc.). \n",
    "\n",
    "Reference value for mean/std:\n",
    "\n",
    "**mean(RGB-format): (0.4914, 0.4822, 0.4465)**\n",
    "\n",
    "**std(RGB-format): (0.2023, 0.1994, 0.2010)**"
   ]
  },
  {
   "cell_type": "code",
   "execution_count": 50,
   "metadata": {
    "colab": {},
    "colab_type": "code",
    "id": "LkQLxCjy5yvO"
   },
   "outputs": [],
   "source": [
    "# Specify preprocessing function.\n",
    "# Reference mean/std value for \n",
    "transform_train  = transforms.Compose([\n",
    "        transforms.RandomCrop(32, padding=2),\n",
    "        transforms.RandomHorizontalFlip(),\n",
    "        transforms.ToTensor(),\n",
    "        transforms.Normalize((0.4914, 0.4822, 0.4465), (0.2023, 0.1994, 0.2010)),\n",
    "    ])\n",
    "\n",
    "transform_val = transforms.Compose([\n",
    "        transforms.ToTensor(),\n",
    "        transforms.Normalize((0.4914, 0.4822, 0.4465), (0.2023, 0.1994, 0.2010)),\n",
    "    ])"
   ]
  },
  {
   "cell_type": "markdown",
   "metadata": {
    "colab_type": "text",
    "id": "vp_pXh5l5yvQ"
   },
   "source": [
    "### Step 2: Setting up data I/O\n",
    "Data I/O reads data from the dataset and prepares it for further procedures. Note that you have to link transformation with data I/O so that these operations can be interleaved. Thus, the training process can be more efficient."
   ]
  },
  {
   "cell_type": "code",
   "execution_count": 51,
   "metadata": {
    "colab": {
     "base_uri": "https://localhost:8080/",
     "height": 153
    },
    "colab_type": "code",
    "id": "kS4o7FFQ5yvQ",
    "outputId": "2b9af478-3ee8-4587-b558-15dd6272ec78"
   },
   "outputs": [
    {
     "name": "stdout",
     "output_type": "stream",
     "text": [
      "Using downloaded and verified file: ./data/cifar10_trainval_F20.zip\n",
      "Extracting ./data/cifar10_trainval_F20.zip to ./data\n",
      "Files already downloaded and verified\n",
      "Training dataset has 45000 examples!\n",
      "Using downloaded and verified file: ./data/cifar10_trainval_F20.zip\n",
      "Extracting ./data/cifar10_trainval_F20.zip to ./data\n",
      "Files already downloaded and verified\n",
      "Validation dataset has 5000 examples!\n"
     ]
    }
   ],
   "source": [
    "# You cannot change this line.\n",
    "from tools.dataloader import CIFAR10\n",
    "# Call the dataset Loader\n",
    "DATAROOT = \"./data\"\n",
    "TRAIN_BATCH_SIZE = 128\n",
    "VAL_BATCH_SIZE = 100\n",
    "trainset = CIFAR10(root=DATAROOT, train=True, download=True, transform=transform_train)\n",
    "trainloader = torch.utils.data.DataLoader(trainset, batch_size=TRAIN_BATCH_SIZE, shuffle=True, num_workers=4)\n",
    "valset = CIFAR10(root=DATAROOT, train=False, download=True, transform=transform_val)\n",
    "valloader = torch.utils.data.DataLoader(valset, batch_size=VAL_BATCH_SIZE, shuffle=False, num_workers=4)"
   ]
  },
  {
   "cell_type": "markdown",
   "metadata": {
    "colab_type": "text",
    "id": "0ID9U3zD5yvT"
   },
   "source": [
    "### Step 3: Instantialize your LeNet-5 model and deploy it to GPU devices.\n",
    "You may want to deploy your model to GPU device for efficient training. Please assign your model to GPU if possible. If you are training on a machine without GPUs, please deploy your model to CPUs."
   ]
  },
  {
   "cell_type": "code",
   "execution_count": 52,
   "metadata": {
    "colab": {
     "base_uri": "https://localhost:8080/",
     "height": 34
    },
    "colab_type": "code",
    "id": "naEWqV_w5yvT",
    "outputId": "4b39ee35-a13b-4380-b3dd-129af89c5182"
   },
   "outputs": [
    {
     "name": "stdout",
     "output_type": "stream",
     "text": [
      "Train on GPU...\n"
     ]
    }
   ],
   "source": [
    "# Specify the device for computation\n",
    "device = 'cuda' if torch.cuda.is_available() else 'cpu'\n",
    "net = LeNet5()\n",
    "net = net.to(device)\n",
    "if device =='cuda':\n",
    "    print(\"Train on GPU...\")\n",
    "else:\n",
    "    print(\"Train on CPU...\")"
   ]
  },
  {
   "cell_type": "markdown",
   "metadata": {
    "colab_type": "text",
    "id": "b1jL4CeT5yvW"
   },
   "source": [
    "### Hyperparameter settings\n",
    "Hyperparameters are quite crucial in determining the performance of our model. The default hyperparameter settings are sufficient for a decent result. You may tune them wisely and carefully for better results."
   ]
  },
  {
   "cell_type": "code",
   "execution_count": 53,
   "metadata": {
    "colab": {},
    "colab_type": "code",
    "id": "-PLQZh765yvX"
   },
   "outputs": [],
   "source": [
    "# Initial learning rate\n",
    "INITIAL_LR = 0.00 #originally 0.01\n",
    "# Momentum for optimizer.\n",
    "MOMENTUM = 0.9\n",
    "# Regularization\n",
    "REG = 1e-4\n",
    "# Total number of training epochs\n",
    "EPOCHS = 30\n",
    "# Learning rate decay policy.\n",
    "DECAY_EPOCHS = 2\n",
    "DECAY = 1.00"
   ]
  },
  {
   "cell_type": "markdown",
   "metadata": {
    "colab_type": "text",
    "id": "5BWoLFIG5yva"
   },
   "source": [
    "### Handling weights load/save protocols.\n",
    "This handles the weight loading/saving protocols.You may be able to load from checkpoints."
   ]
  },
  {
   "cell_type": "code",
   "execution_count": 54,
   "metadata": {
    "colab": {
     "base_uri": "https://localhost:8080/",
     "height": 51
    },
    "colab_type": "code",
    "id": "nJ2Xb48N5yva",
    "outputId": "798ec302-4f91-419f-cd5e-56bc38748b38"
   },
   "outputs": [
    {
     "name": "stdout",
     "output_type": "stream",
     "text": [
      "Training from scratch ...\n",
      "Starting from learning rate 0.000000:\n"
     ]
    }
   ],
   "source": [
    "\n",
    "CHECKPOINT_PATH = \"./saved_model\"\n",
    "# FLAG for loading the pretrained model\n",
    "TRAIN_FROM_SCRATCH = True\n",
    "# Code for loading checkpoint and recover epoch id.\n",
    "CKPT_PATH = \"./saved_model/model.h5\"\n",
    "def get_checkpoint(ckpt_path):\n",
    "    try:\n",
    "        ckpt = torch.load(ckpt_path)\n",
    "    except Exception as e:\n",
    "        print(e)\n",
    "        return None\n",
    "    return ckpt\n",
    "\n",
    "ckpt = get_checkpoint(CKPT_PATH)\n",
    "if ckpt is None or TRAIN_FROM_SCRATCH:\n",
    "    if not TRAIN_FROM_SCRATCH:\n",
    "        print(\"Checkpoint not found.\")\n",
    "    print(\"Training from scratch ...\")\n",
    "    start_epoch = 0\n",
    "    current_learning_rate = INITIAL_LR\n",
    "else:\n",
    "    print(\"Successfully loaded checkpoint: %s\" %CKPT_PATH)\n",
    "    net.load_state_dict(ckpt['net'])\n",
    "    start_epoch = ckpt['epoch'] + 1\n",
    "    current_learning_rate = ckpt['lr']\n",
    "    print(\"Starting from epoch %d \" %start_epoch)\n",
    "\n",
    "print(\"Starting from learning rate %f:\" %current_learning_rate)"
   ]
  },
  {
   "cell_type": "markdown",
   "metadata": {
    "colab_type": "text",
    "id": "HveHF3BY5yvd"
   },
   "source": [
    "### Step 4 Setting up loss functions and Optimizers\n",
    "Loss function is your objective to train the neural networks. Typically, we use multi-class cross entropy as objectives for classification models (e.g., CIFAR-10, MNIST). In this homework, we use SGD optimizer with momentum as our optimizer. You need to formulate the cross-entropy loss function in PyTorch.\n",
    "You should also specify a PyTorch Optimizer to optimize this loss function."
   ]
  },
  {
   "cell_type": "code",
   "execution_count": 55,
   "metadata": {
    "colab": {},
    "colab_type": "code",
    "id": "BzynCrkF5yvd"
   },
   "outputs": [],
   "source": [
    "# Create loss function and specify regularization\n",
    "criterion = nn.CrossEntropyLoss()\n",
    "# Add optimizer\n",
    "optimizer = optim.SGD(params=net.parameters(), lr=current_learning_rate, weight_decay=REG, momentum=MOMENTUM, nesterov=False)"
   ]
  },
  {
   "cell_type": "markdown",
   "metadata": {
    "colab_type": "text",
    "id": "PvB4KX415yvf"
   },
   "source": [
    "### Step 5: Start the training process.\n",
    "Congratulations! You have completed all of the previous steps and it is time to train our neural network.\n",
    "Training a neural network usually composes the following 3 parts: \n",
    "\n",
    "**i) Get a batch of data from the dataloader and copy it to your device (GPU)**\n",
    "\n",
    "**ii) Do a forward pass to get the output logits from the neural network. Compute the forward loss.**\n",
    "\n",
    "**iii) Do a backward pass (back-propagation) to compute gradients of all weights with respect to the loss.**\n",
    "\n",
    "You will also need to compute accuracy within all these parts to justify that your model is doing well on the dataset.\n"
   ]
  },
  {
   "cell_type": "code",
   "execution_count": 56,
   "metadata": {
    "colab": {
     "base_uri": "https://localhost:8080/",
     "height": 1000
    },
    "colab_type": "code",
    "id": "0LkrIP6N5yvf",
    "outputId": "ece7f828-873e-4d75-c84c-c9b54dfa9fe0"
   },
   "outputs": [
    {
     "name": "stdout",
     "output_type": "stream",
     "text": [
      "Loss before training is:  2.304512866518714  , Training Accuracy:  0.09684444444444444\n",
      "2020-09-13 02:00:06.293043\n",
      "Epoch 0:\n"
     ]
    },
    {
     "name": "stderr",
     "output_type": "stream",
     "text": [
      "/usr/local/lib/python3.6/dist-packages/torch/nn/_reduction.py:44: UserWarning: size_average and reduce args will be deprecated, please use reduction='sum' instead.\n",
      "  warnings.warn(warning.format(ret))\n"
     ]
    },
    {
     "name": "stdout",
     "output_type": "stream",
     "text": [
      "Training loss: 2.3048, Training accuracy: 0.0966\n",
      "2020-09-13 02:00:18.516129\n",
      "Validation...\n",
      "Validation loss: 2.3046, Validation accuracy: 0.0990\n",
      "Saving ...\n",
      "2020-09-13 02:00:19.605706\n",
      "Epoch 1:\n",
      "Training loss: 2.3049, Training accuracy: 0.0981\n",
      "2020-09-13 02:00:31.775261\n",
      "Validation...\n",
      "Validation loss: 2.3051, Validation accuracy: 0.0970\n",
      "2020-09-13 02:00:32.864122\n",
      "Epoch 2:\n",
      "Training loss: 2.3047, Training accuracy: 0.0978\n",
      "2020-09-13 02:00:45.117243\n",
      "Validation...\n",
      "Validation loss: 2.3050, Validation accuracy: 0.0978\n",
      "Current learning rate has decayed to 0.000000\n",
      "2020-09-13 02:00:46.199388\n",
      "Epoch 3:\n",
      "Training loss: 2.3048, Training accuracy: 0.0970\n",
      "2020-09-13 02:00:58.390862\n",
      "Validation...\n",
      "Validation loss: 2.3049, Validation accuracy: 0.0982\n",
      "2020-09-13 02:00:59.459968\n",
      "Epoch 4:\n",
      "Training loss: 2.3047, Training accuracy: 0.0972\n",
      "2020-09-13 02:01:11.529511\n",
      "Validation...\n",
      "Validation loss: 2.3051, Validation accuracy: 0.0960\n",
      "Current learning rate has decayed to 0.000000\n",
      "2020-09-13 02:01:12.611712\n",
      "Epoch 5:\n",
      "Training loss: 2.3045, Training accuracy: 0.0972\n",
      "2020-09-13 02:01:24.750568\n",
      "Validation...\n",
      "Validation loss: 2.3048, Validation accuracy: 0.0976\n",
      "2020-09-13 02:01:25.821754\n",
      "Epoch 6:\n",
      "Training loss: 2.3050, Training accuracy: 0.0973\n",
      "2020-09-13 02:01:37.936716\n",
      "Validation...\n",
      "Validation loss: 2.3050, Validation accuracy: 0.0972\n",
      "Current learning rate has decayed to 0.000000\n",
      "2020-09-13 02:01:39.007493\n",
      "Epoch 7:\n",
      "Training loss: 2.3047, Training accuracy: 0.0976\n",
      "2020-09-13 02:01:51.169936\n",
      "Validation...\n",
      "Validation loss: 2.3049, Validation accuracy: 0.0976\n",
      "2020-09-13 02:01:52.229089\n",
      "Epoch 8:\n",
      "Training loss: 2.3046, Training accuracy: 0.0975\n",
      "2020-09-13 02:02:04.254027\n",
      "Validation...\n",
      "Validation loss: 2.3048, Validation accuracy: 0.0974\n",
      "Current learning rate has decayed to 0.000000\n",
      "2020-09-13 02:02:05.337216\n",
      "Epoch 9:\n",
      "Training loss: 2.3051, Training accuracy: 0.0953\n",
      "2020-09-13 02:02:17.445909\n",
      "Validation...\n",
      "Validation loss: 2.3050, Validation accuracy: 0.0944\n",
      "2020-09-13 02:02:18.508844\n",
      "Epoch 10:\n",
      "Training loss: 2.3046, Training accuracy: 0.0971\n",
      "2020-09-13 02:02:30.489609\n",
      "Validation...\n",
      "Validation loss: 2.3049, Validation accuracy: 0.0964\n",
      "Current learning rate has decayed to 0.000000\n",
      "2020-09-13 02:02:31.538769\n",
      "Epoch 11:\n",
      "Training loss: 2.3046, Training accuracy: 0.0979\n",
      "2020-09-13 02:02:43.494237\n",
      "Validation...\n",
      "Validation loss: 2.3048, Validation accuracy: 0.0986\n",
      "2020-09-13 02:02:44.565434\n",
      "Epoch 12:\n",
      "Training loss: 2.3044, Training accuracy: 0.0956\n",
      "2020-09-13 02:02:56.601434\n",
      "Validation...\n",
      "Validation loss: 2.3048, Validation accuracy: 0.0970\n",
      "Current learning rate has decayed to 0.000000\n",
      "2020-09-13 02:02:57.667731\n",
      "Epoch 13:\n",
      "Training loss: 2.3046, Training accuracy: 0.0969\n",
      "2020-09-13 02:03:09.501063\n",
      "Validation...\n",
      "Validation loss: 2.3053, Validation accuracy: 0.0978\n",
      "2020-09-13 02:03:10.548340\n",
      "Epoch 14:\n",
      "Training loss: 2.3048, Training accuracy: 0.0981\n",
      "2020-09-13 02:03:22.427996\n",
      "Validation...\n",
      "Validation loss: 2.3049, Validation accuracy: 0.0970\n",
      "Current learning rate has decayed to 0.000000\n",
      "2020-09-13 02:03:23.499592\n",
      "Epoch 15:\n",
      "Training loss: 2.3047, Training accuracy: 0.0968\n",
      "2020-09-13 02:03:35.448172\n",
      "Validation...\n",
      "Validation loss: 2.3050, Validation accuracy: 0.0978\n",
      "2020-09-13 02:03:36.492396\n",
      "Epoch 16:\n",
      "Training loss: 2.3049, Training accuracy: 0.0963\n",
      "2020-09-13 02:03:48.322997\n",
      "Validation...\n",
      "Validation loss: 2.3050, Validation accuracy: 0.0978\n",
      "Current learning rate has decayed to 0.000000\n",
      "2020-09-13 02:03:49.416979\n",
      "Epoch 17:\n",
      "Training loss: 2.3048, Training accuracy: 0.0967\n",
      "2020-09-13 02:04:01.340866\n",
      "Validation...\n",
      "Validation loss: 2.3050, Validation accuracy: 0.0954\n",
      "2020-09-13 02:04:02.373635\n",
      "Epoch 18:\n",
      "Training loss: 2.3052, Training accuracy: 0.0954\n",
      "2020-09-13 02:04:14.055359\n",
      "Validation...\n",
      "Validation loss: 2.3051, Validation accuracy: 0.0956\n",
      "Current learning rate has decayed to 0.000000\n",
      "2020-09-13 02:04:15.085330\n",
      "Epoch 19:\n",
      "Training loss: 2.3042, Training accuracy: 0.0990\n",
      "2020-09-13 02:04:26.955034\n",
      "Validation...\n",
      "Validation loss: 2.3051, Validation accuracy: 0.0966\n",
      "2020-09-13 02:04:27.999444\n",
      "Epoch 20:\n",
      "Training loss: 2.3048, Training accuracy: 0.0958\n",
      "2020-09-13 02:04:39.718031\n",
      "Validation...\n",
      "Validation loss: 2.3050, Validation accuracy: 0.0972\n",
      "Current learning rate has decayed to 0.000000\n",
      "2020-09-13 02:04:40.749867\n",
      "Epoch 21:\n",
      "Training loss: 2.3050, Training accuracy: 0.0985\n",
      "2020-09-13 02:04:52.693475\n",
      "Validation...\n",
      "Validation loss: 2.3048, Validation accuracy: 0.0964\n",
      "2020-09-13 02:04:53.767661\n",
      "Epoch 22:\n",
      "Training loss: 2.3053, Training accuracy: 0.0967\n",
      "2020-09-13 02:05:05.666885\n",
      "Validation...\n",
      "Validation loss: 2.3050, Validation accuracy: 0.0988\n",
      "Current learning rate has decayed to 0.000000\n",
      "2020-09-13 02:05:06.750219\n",
      "Epoch 23:\n",
      "Training loss: 2.3047, Training accuracy: 0.0956\n",
      "2020-09-13 02:05:18.512048\n",
      "Validation...\n",
      "Validation loss: 2.3048, Validation accuracy: 0.0992\n",
      "Saving ...\n",
      "2020-09-13 02:05:19.552449\n",
      "Epoch 24:\n",
      "Training loss: 2.3051, Training accuracy: 0.0972\n",
      "2020-09-13 02:05:31.171932\n",
      "Validation...\n",
      "Validation loss: 2.3049, Validation accuracy: 0.0972\n",
      "Current learning rate has decayed to 0.000000\n",
      "2020-09-13 02:05:32.215646\n",
      "Epoch 25:\n",
      "Training loss: 2.3050, Training accuracy: 0.0953\n",
      "2020-09-13 02:05:43.877611\n",
      "Validation...\n",
      "Validation loss: 2.3049, Validation accuracy: 0.0972\n",
      "2020-09-13 02:05:44.917242\n",
      "Epoch 26:\n",
      "Training loss: 2.3047, Training accuracy: 0.0974\n",
      "2020-09-13 02:05:56.744996\n",
      "Validation...\n",
      "Validation loss: 2.3049, Validation accuracy: 0.0978\n",
      "Current learning rate has decayed to 0.000000\n",
      "2020-09-13 02:05:57.819749\n",
      "Epoch 27:\n",
      "Training loss: 2.3049, Training accuracy: 0.0966\n",
      "2020-09-13 02:06:09.615965\n",
      "Validation...\n",
      "Validation loss: 2.3049, Validation accuracy: 0.0964\n",
      "2020-09-13 02:06:10.661422\n",
      "Epoch 28:\n",
      "Training loss: 2.3048, Training accuracy: 0.0968\n",
      "2020-09-13 02:06:22.415401\n",
      "Validation...\n",
      "Validation loss: 2.3048, Validation accuracy: 0.0980\n",
      "Current learning rate has decayed to 0.000000\n",
      "2020-09-13 02:06:23.456046\n",
      "Epoch 29:\n",
      "Training loss: 2.3050, Training accuracy: 0.0976\n",
      "2020-09-13 02:06:35.213804\n",
      "Validation...\n",
      "Validation loss: 2.3048, Validation accuracy: 0.0982\n",
      "Optimization finished.\n"
     ]
    }
   ],
   "source": [
    "# Start the training/validation process\n",
    "# The process should take about 5 minutes on a GTX 1070-Ti\n",
    "# if the code is written efficiently.\n",
    "global_step = 0\n",
    "best_val_acc = 0\n",
    "loss = 0\n",
    "correct_examples = 0\n",
    "total_examples = 0\n",
    "\n",
    "for batch_idx, (inputs, targets) in enumerate(trainloader):\n",
    "  inputs = inputs.to(device)\n",
    "  targets = targets.to(device)\n",
    "  # Zero the gradient\n",
    "  optimizer.zero_grad()\n",
    "  # Generate output\n",
    "  outputs = net(inputs)\n",
    "  loss_temp = criterion(outputs, targets)\n",
    "  loss += loss_temp.item()\n",
    "  _, predicted = outputs.max(1)\n",
    "  total_examples += predicted.size(0)\n",
    "  correct_examples += predicted.eq(targets).sum().item()\n",
    "\n",
    "avg_acc = correct_examples / total_examples\n",
    "print(\"Loss before training is: \", loss/ (batch_idx + 1), \" , Training Accuracy: \", avg_acc)\n",
    "\n",
    "\n",
    "for i in range(start_epoch, EPOCHS):\n",
    "    print(datetime.datetime.now())\n",
    "    # Switch to train mode\n",
    "    net.train()\n",
    "    print(\"Epoch %d:\" %i)\n",
    "\n",
    "    total_examples = 0\n",
    "    correct_examples = 0\n",
    "\n",
    "    train_loss = 0\n",
    "    train_acc = 0\n",
    "    \n",
    "    # Train the training dataset for 1 epoch.\n",
    "    for batch_idx, (inputs, targets) in enumerate(trainloader):\n",
    "        # Copy inputs to device\n",
    "        inputs = inputs.to(device)\n",
    "        targets = targets.to(device)\n",
    "        # Zero the gradient\n",
    "        optimizer.zero_grad()\n",
    "        # Generate output\n",
    "        outputs = net(inputs)\n",
    "        l1_crit = nn.L1Loss(size_average=False)\n",
    "        #reg_loss = 0\n",
    "        #for param in net.parameters():\n",
    "          #reg_loss += torch.sum(param)\n",
    "        #print(reg_loss)\n",
    "        loss = criterion(outputs, targets) #+ REG * reg_loss\n",
    "        # Now backward loss\n",
    "        loss.backward()\n",
    "        # Apply gradient\n",
    "        optimizer.step()\n",
    "        # Calculate predicted labels\n",
    "        _, predicted = outputs.max(1)\n",
    "        total_examples += predicted.size(0)\n",
    "        correct_examples += predicted.eq(targets).sum().item()\n",
    "        train_loss += loss\n",
    "        global_step += 1\n",
    "                \n",
    "    avg_loss = train_loss / (batch_idx + 1)\n",
    "    avg_acc = correct_examples / total_examples\n",
    "    print(\"Training loss: %.4f, Training accuracy: %.4f\" %(avg_loss, avg_acc))\n",
    "    print(datetime.datetime.now())\n",
    "    # Validate on the validation dataset\n",
    "    print(\"Validation...\")\n",
    "    total_examples = 0\n",
    "    correct_examples = 0\n",
    "    \n",
    "    net.eval()\n",
    "\n",
    "    val_loss = 0\n",
    "    val_acc = 0\n",
    "    # Disable gradient during validation\n",
    "    with torch.no_grad():\n",
    "        for batch_idx, (inputs, targets) in enumerate(valloader):\n",
    "            # Copy inputs to device\n",
    "            inputs = inputs.to(device)\n",
    "            targets = targets.to(device)\n",
    "            # Zero the gradient\n",
    "            optimizer.zero_grad()\n",
    "            # Generate output from the DNN.\n",
    "            outputs = net(inputs)\n",
    "            loss = criterion(outputs, targets)            \n",
    "            # Calculate predicted labels\n",
    "            _, predicted = outputs.max(1)\n",
    "            total_examples += predicted.size(0)\n",
    "            correct_examples += predicted.eq(targets).sum().item()\n",
    "            val_loss += loss\n",
    "\n",
    "    avg_loss = val_loss / len(valloader)\n",
    "    avg_acc = correct_examples / total_examples\n",
    "    \n",
    "    print(\"Validation loss: %.4f, Validation accuracy: %.4f\" % (avg_loss, avg_acc))\n",
    "\n",
    "    # Handle the learning rate scheduler.\n",
    "    if i % DECAY_EPOCHS == 0 and i != 0:\n",
    "        current_learning_rate = current_learning_rate * DECAY\n",
    "        for param_group in optimizer.param_groups:\n",
    "            param_group['lr'] = current_learning_rate\n",
    "        print(\"Current learning rate has decayed to %f\" %current_learning_rate)\n",
    "    \n",
    "    # Save for checkpoint\n",
    "    if avg_acc > best_val_acc:\n",
    "        best_val_acc = avg_acc\n",
    "        if not os.path.exists(CHECKPOINT_PATH):\n",
    "            os.makedirs(CHECKPOINT_PATH)\n",
    "        print(\"Saving ...\")\n",
    "        state = {'net': net.state_dict(),\n",
    "                 'epoch': i,\n",
    "                 'lr': current_learning_rate}\n",
    "        torch.save(state, os.path.join(CHECKPOINT_PATH, 'model.h5'))\n",
    "\n",
    "print(\"Optimization finished.\")"
   ]
  },
  {
   "cell_type": "code",
   "execution_count": 61,
   "metadata": {
    "colab": {
     "base_uri": "https://localhost:8080/",
     "height": 1000
    },
    "colab_type": "code",
    "id": "sZDwImIe5yvi",
    "outputId": "97a6311e-8dc9-4702-9bb7-1240a9f833b3"
   },
   "outputs": [
    {
     "data": {
      "image/png": "[encoded data removed]",
      "text/plain": [
       "<Figure size 432x288 with 1 Axes>"
      ]
     },
     "metadata": {
      "needs_background": "light",
      "tags": []
     },
     "output_type": "display_data"
    },
    {
     "data": {
      "image/png": "[encoded data removed]",
      "text/plain": [
       "<Figure size 432x288 with 1 Axes>"
      ]
     },
     "metadata": {
      "needs_background": "light",
      "tags": []
     },
     "output_type": "display_data"
    },
    {
     "data": {
      "image/png": "[encoded data removed]",
      "text/plain": [
       "<Figure size 432x288 with 1 Axes>"
      ]
     },
     "metadata": {
      "needs_background": "light",
      "tags": []
     },
     "output_type": "display_data"
    },
    {
     "data": {
      "image/png": "[encoded data removed]",
      "text/plain": [
       "<Figure size 432x288 with 1 Axes>"
      ]
     },
     "metadata": {
      "needs_background": "light",
      "tags": []
     },
     "output_type": "display_data"
    },
    {
     "name": "stderr",
     "output_type": "stream",
     "text": [
      "Traceback (most recent call last):\n",
      "  File \"/usr/lib/python3.6/multiprocessing/queues.py\", line 240, in _feed\n",
      "    send_bytes(obj)\n",
      "  File \"/usr/lib/python3.6/multiprocessing/connection.py\", line 200, in send_bytes\n",
      "    self._send_bytes(m[offset:offset + size])\n",
      "  File \"/usr/lib/python3.6/multiprocessing/connection.py\", line 404, in _send_bytes\n",
      "    self._send(header + buf)\n",
      "  File \"/usr/lib/python3.6/multiprocessing/connection.py\", line 368, in _send\n",
      "    n = write(self._handle, buf)\n",
      "BrokenPipeError: [Errno 32] Broken pipe\n",
      "Traceback (most recent call last):\n",
      "  File \"/usr/lib/python3.6/multiprocessing/queues.py\", line 230, in _feed\n",
      "    close()\n",
      "  File \"/usr/lib/python3.6/multiprocessing/connection.py\", line 177, in close\n",
      "    self._close()\n",
      "  File \"/usr/lib/python3.6/multiprocessing/connection.py\", line 361, in _close\n",
      "    _close(self._handle)\n",
      "OSError: [Errno 9] Bad file descriptor\n"
     ]
    },
    {
     "data": {
      "image/png": "[encoded data removed]",
      "text/plain": [
       "<Figure size 432x288 with 1 Axes>"
      ]
     },
     "metadata": {
      "needs_background": "light",
      "tags": []
     },
     "output_type": "display_data"
    }
   ],
   "source": [
    "for name, module in net.named_modules():\n",
    "  if isinstance(module, nn.Conv2d) or isinstance(module, nn.Linear):\n",
    "    # Get the weight of the module as a NumPy array\n",
    "    weight = module.weight.cpu().detach().numpy()\n",
    "    # Reshape for histogram\n",
    "    weight = weight.reshape(-1)\n",
    "    _ = plt.hist(weight, bins=20)\n",
    "    plt.title(\"Weight histogram of layer \"+name)\n",
    "    plt.show()"
   ]
  },
  {
   "cell_type": "code",
   "execution_count": null,
   "metadata": {
    "colab": {},
    "colab_type": "code",
    "id": "hek6l6MgOAfl"
   },
   "outputs": [],
   "source": []
  }
 ],
 "metadata": {
  "accelerator": "GPU",
  "colab": {
   "collapsed_sections": [],
   "name": "lenet5-cifar10.ipynb",
   "provenance": [],
   "toc_visible": true
  },
  "kernelspec": {
   "display_name": "Python 3",
   "language": "python",
   "name": "python3"
  },
  "language_info": {
   "codemirror_mode": {
    "name": "ipython",
    "version": 3
   },
   "file_extension": ".py",
   "mimetype": "text/x-python",
   "name": "python",
   "nbconvert_exporter": "python",
   "pygments_lexer": "ipython3",
   "version": "3.8.3"
  }
 },
 "nbformat": 4,
 "nbformat_minor": 1
}
