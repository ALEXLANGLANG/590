{
 "cells": [
  {
   "cell_type": "markdown",
   "metadata": {},
   "source": [
    "# Training LeNet-5 on CIFAR-10 Dev for Lab2\n",
    "In this notebook, we will try to deploy the famous LeNet-5 to solve a simple image classification task, the CIFAR-10. CIFAR-10 is composed of 60K images from 10 categories. After splitting the dataset, we have 45K/5K/10K images for train/valiation/test dataset.\n",
    "In this notebook, only the labels of training/validation dataset is visible to you, so you can use the training and validation data to tune your model. After you submitted your model, your final grade will be determined on the model performance on the holdout test dataset."
   ]
  },
  {
   "cell_type": "markdown",
   "metadata": {},
   "source": [
    "### Step 0 Setting up LeNet-5 model\n",
    "As you have set up the LeNet-5 model in Homework 1, we will just move the implementation of LeNet-5 model here, so you can use it for this homework."
   ]
  },
  {
   "cell_type": "code",
   "execution_count": 1,
   "metadata": {},
   "outputs": [],
   "source": [
    "import argparse\n",
    "import os, sys\n",
    "import time\n",
    "import datetime\n",
    "import matplotlib.pyplot as plt\n",
    "import numpy as np\n",
    "import pandas as pd\n",
    "# Import pytorch dependencies\n",
    "import torch\n",
    "import torch.nn as nn\n",
    "import torch.nn.functional as F\n",
    "import torchvision\n",
    "import torchvision.transforms as transforms\n",
    "import torch.optim as optim\n",
    "from tqdm import tqdm_notebook as tqdm\n"
   ]
  },
  {
   "cell_type": "code",
   "execution_count": 2,
   "metadata": {},
   "outputs": [],
   "source": [
    "import math\n",
    "# Create the neural network module: LeNet-5\n",
    "class LeNet5(nn.Module):\n",
    "    def __init__(self):\n",
    "        super(LeNet5, self).__init__()\n",
    "        self.conv1 = nn.Conv2d(3, 6, 5)\n",
    "        self.BN2d_1 = nn.BatchNorm2d(6, affine=False)\n",
    "        self.conv2 = nn.Conv2d(6, 16, 5)\n",
    "        self.BN2d_2 = nn.BatchNorm2d(16, affine=False)\n",
    "        self.fc1   = nn.Linear(16*5*5, 120)\n",
    "        self.BN1d_1 = nn.BatchNorm1d(120, affine=False)\n",
    "        self.fc2   = nn.Linear(120, 84)\n",
    "        self.BN1d_2 = nn.BatchNorm1d(84, affine=False)\n",
    "        self.fc3   = nn.Linear(84, 10)\n",
    "        # self._initialize_weights()\n",
    "\n",
    "#     def forward(self, x):\n",
    "#         out = self.BN2d_1(self.conv1(x))\n",
    "#         out = F.relu(out)\n",
    "#         out = F.max_pool2d(out, 2)\n",
    "#         out = self.BN2d_2(self.conv2(out))\n",
    "#         out = F.relu(out)\n",
    "#         out = F.max_pool2d(out, 2)\n",
    "#         out = out.view(out.size(0), -1)\n",
    "#         out = self.BN1d_1(self.fc1(out))\n",
    "#         out = F.relu(out)\n",
    "#         out = self.BN1d_2(self.fc2(out))\n",
    "#         out = F.relu(out)\n",
    "#         out = self.fc3(out)\n",
    "#         return out\n",
    "    def forward(self, x):\n",
    "        out = self.BN2d_1(self.conv1(x))\n",
    "        out = out * torch.sigmoid(out)\n",
    "        out = F.max_pool2d(out, 2)\n",
    "        out = self.BN2d_2(self.conv2(out))\n",
    "        out = out * torch.sigmoid(out)\n",
    "        out = F.max_pool2d(out, 2)\n",
    "        out = out.view(out.size(0), -1)\n",
    "        out = self.BN1d_1(self.fc1(out))\n",
    "        out= out * torch.sigmoid(out)\n",
    "        out = self.BN1d_2(self.fc2(out))\n",
    "        out = out * torch.sigmoid(out)\n",
    "        out = self.fc3(out)\n",
    "        return out\n",
    "     \n",
    "    \n",
    "#     def forward(self, x):\n",
    "#         out = self.conv1(x)\n",
    "#         out = F.relu(out)\n",
    "#         out = F.max_pool2d(out, 2)\n",
    "#         out = self.conv2(out)\n",
    "#         out = F.relu(out)\n",
    "#         out = F.max_pool2d(out, 2)\n",
    "#         out = out.view(out.size(0), -1)\n",
    "#         out = self.fc1(out)\n",
    "#         out = F.relu(out)\n",
    "#         out = self.fc2(out)\n",
    "#         out = F.relu(out)\n",
    "#         out = self.fc3(out)\n",
    "#         return out\n",
    "\n",
    "    \"\"\"\n",
    "    def _initialize_weights(self):\n",
    "        for m in self.modules():\n",
    "            if isinstance(m, nn.Conv2d):\n",
    "                n = m.kernel_size[0] * m.kernel_size[1] * (m.in_channels + m.out_channels)\n",
    "                m.weight.data.normal_(0, math.sqrt(2. / n))\n",
    "                if m.bias is not None:\n",
    "                    m.bias.data.zero_()\n",
    "            elif isinstance(m, nn.BatchNorm2d):\n",
    "                m.weight.data.fill_(1)\n",
    "                m.bias.data.zero_()\n",
    "            elif isinstance(m, nn.Linear):\n",
    "                n = m.weight.size(1)\n",
    "                m.weight.data.normal_(0, 0.01)\n",
    "                m.bias.data.zero_() \"\"\""
   ]
  },
  {
   "cell_type": "markdown",
   "metadata": {},
   "source": [
    "### Step 1: Setting up preprocessing functions.\n",
    "Preprocessing is very important because it prepares your data for proceeding training steps.\n",
    "Write functions to load dataset and preprocess the incoming data. We recommend that the preprocess scheme \\textbf{must} include normalize, standardization, batch shuffling to make sure the training \n",
    "process goes smoothly. The preprocess scheme may also contain some data augmentation methods \n",
    "(e.g., random crop, random flip, etc.). \n",
    "\n",
    "Reference value for mean/std:\n",
    "\n",
    "**mean(RGB-format): (0.4914, 0.4822, 0.4465)**\n",
    "\n",
    "**std(RGB-format): (0.2023, 0.1994, 0.2010)**"
   ]
  },
  {
   "cell_type": "code",
   "execution_count": 3,
   "metadata": {},
   "outputs": [],
   "source": [
    "# Specify preprocessing function.\n",
    "# Reference mean/std value for \n",
    "transform_train  = transforms.Compose([\n",
    "#         transforms.ToTensor(), # convert input into tensor \n",
    "        transforms.RandomCrop(size = 32,padding = 4),\n",
    "        transforms.RandomHorizontalFlip(p = 0.6),\n",
    "        transforms.ToTensor(), # convert input into tensor \n",
    "        transforms.Normalize((0.4914, 0.4822, 0.4465), (0.2023, 0.1994, 0.2010)),\n",
    "    ])\n",
    "\n",
    "transform_val = transforms.Compose([\n",
    "#         transforms.ToTensor(),\n",
    "#         transforms.RandomResizedCrop(32),\n",
    "#         transforms.RandomHorizontalFlip(),\n",
    "        transforms.ToTensor(),\n",
    "        transforms.Normalize((0.4914, 0.4822, 0.4465), (0.2023, 0.1994, 0.2010)),\n",
    "    ])"
   ]
  },
  {
   "cell_type": "code",
   "execution_count": 4,
   "metadata": {},
   "outputs": [
    {
     "name": "stdout",
     "output_type": "stream",
     "text": [
      "Run on GPU...\n",
      "Forward pass successful\n"
     ]
    }
   ],
   "source": [
    "#Verify the implementation of LeNet-5 Model\n",
    "\n",
    "# GPU check                \n",
    "device = 'cuda' if torch.cuda.is_available() else 'cpu'\n",
    "if device =='cuda':\n",
    "    print(\"Run on GPU...\")\n",
    "else:\n",
    "    print(\"Run on CPU...\")\n",
    "\n",
    "# Model Definition  \n",
    "net = LeNet5()\n",
    "net = net.to(device)\n",
    "\n",
    "# Test forward pass\n",
    "data = torch.randn(5,3,32,32)\n",
    "data = data.to(device)\n",
    "\n",
    "# Forward pass \"data\" through \"net\" to get output \"out\" \n",
    "out =  net(data) #Your code here\n",
    "\n",
    "# Check output shape\n",
    "assert(out.detach().cpu().numpy().shape == (5,10))\n",
    "print(\"Forward pass successful\")"
   ]
  },
  {
   "cell_type": "markdown",
   "metadata": {},
   "source": [
    "### Step 2: Setting up data I/O\n",
    "Data I/O reads data from the dataset and prepares it for further procedures. Note that you have to link transformation with data I/O so that these operations can be interleaved. Thus, the training process can be more efficient."
   ]
  },
  {
   "cell_type": "code",
   "execution_count": 5,
   "metadata": {},
   "outputs": [
    {
     "name": "stdout",
     "output_type": "stream",
     "text": [
      "Using downloaded and verified file: ./data/cifar10_trainval_F20.zip\n",
      "Extracting ./data/cifar10_trainval_F20.zip to ./data\n",
      "Files already downloaded and verified\n",
      "Training dataset has 45000 examples!\n",
      "Using downloaded and verified file: ./data/cifar10_trainval_F20.zip\n",
      "Extracting ./data/cifar10_trainval_F20.zip to ./data\n",
      "Files already downloaded and verified\n",
      "Validation dataset has 5000 examples!\n"
     ]
    }
   ],
   "source": [
    "# You cannot change this line.\n",
    "from tools.dataloader import CIFAR10\n",
    "# Call the dataset Loader\n",
    "DATAROOT = \"./data\"\n",
    "TRAIN_BATCH_SIZE = 128\n",
    "VAL_BATCH_SIZE = 100\n",
    "trainset = CIFAR10(root=DATAROOT, train=True, download=True, transform=transform_train)\n",
    "trainloader = torch.utils.data.DataLoader(trainset, batch_size=TRAIN_BATCH_SIZE, shuffle=True, num_workers=4)\n",
    "valset = CIFAR10(root=DATAROOT, train=False, download=True, transform=transform_val)\n",
    "valloader = torch.utils.data.DataLoader(valset, batch_size=VAL_BATCH_SIZE, shuffle=False, num_workers=4)"
   ]
  },
  {
   "cell_type": "markdown",
   "metadata": {},
   "source": [
    "### Step 3: Instantialize your LeNet-5 model and deploy it to GPU devices.\n",
    "You may want to deploy your model to GPU device for efficient training. Please assign your model to GPU if possible. If you are training on a machine without GPUs, please deploy your model to CPUs."
   ]
  },
  {
   "cell_type": "code",
   "execution_count": 6,
   "metadata": {},
   "outputs": [
    {
     "name": "stdout",
     "output_type": "stream",
     "text": [
      "Train on GPU...\n"
     ]
    }
   ],
   "source": [
    "# Specify the device for computation\n",
    "device = 'cuda' if torch.cuda.is_available() else 'cpu'\n",
    "net = LeNet5()\n",
    "net = net.to(device)\n",
    "if device =='cuda':\n",
    "    print(\"Train on GPU...\")\n",
    "else:\n",
    "    print(\"Train on CPU...\")"
   ]
  },
  {
   "cell_type": "markdown",
   "metadata": {},
   "source": [
    "### Hyperparameter settings\n",
    "Hyperparameters are quite crucial in determining the performance of our model. The default hyperparameter settings are sufficient for a decent result. You may tune them wisely and carefully for better results."
   ]
  },
  {
   "cell_type": "code",
   "execution_count": 7,
   "metadata": {},
   "outputs": [],
   "source": [
    "# Initial learning rate\n",
    "INITIAL_LR = 0.01\n",
    "# Momentum for optimizer.\n",
    "MOMENTUM = 0.9\n",
    "# Regularization\n",
    "REG = 1e-4\n",
    "# Total number of training epochs\n",
    "EPOCHS = 30\n",
    "# Learning rate decay policy.\n",
    "DECAY_EPOCHS = 2\n",
    "DECAY = 1.00"
   ]
  },
  {
   "cell_type": "markdown",
   "metadata": {},
   "source": [
    "### Handling weights load/save protocols.\n",
    "This handles the weight loading/saving protocols.You may be able to load from checkpoints."
   ]
  },
  {
   "cell_type": "code",
   "execution_count": 8,
   "metadata": {},
   "outputs": [
    {
     "name": "stdout",
     "output_type": "stream",
     "text": [
      "Training from scratch ...\n",
      "Starting from learning rate 0.010000:\n"
     ]
    }
   ],
   "source": [
    "CHECKPOINT_PATH = \"./saved_model\"\n",
    "# FLAG for loading the pretrained model\n",
    "TRAIN_FROM_SCRATCH = True\n",
    "# Code for loading checkpoint and recover epoch id.\n",
    "CKPT_PATH = \"./saved_model/model.h5\"\n",
    "def get_checkpoint(ckpt_path):\n",
    "    try:\n",
    "        ckpt = torch.load(ckpt_path)\n",
    "    except Exception as e:\n",
    "        print(e)\n",
    "        return None\n",
    "    return ckpt\n",
    "\n",
    "ckpt = get_checkpoint(CKPT_PATH)\n",
    "if ckpt is None or TRAIN_FROM_SCRATCH:\n",
    "    if not TRAIN_FROM_SCRATCH:\n",
    "        print(\"Checkpoint not found.\")\n",
    "    print(\"Training from scratch ...\")\n",
    "    start_epoch = 0\n",
    "    current_learning_rate = INITIAL_LR\n",
    "else:\n",
    "    print(\"Successfully loaded checkpoint: %s\" %CKPT_PATH)\n",
    "    net.load_state_dict(ckpt['net'])\n",
    "    start_epoch = ckpt['epoch'] + 1\n",
    "    current_learning_rate = ckpt['lr']\n",
    "    print(\"Starting from epoch %d \" %start_epoch)\n",
    "\n",
    "print(\"Starting from learning rate %f:\" %current_learning_rate)"
   ]
  },
  {
   "cell_type": "markdown",
   "metadata": {},
   "source": [
    "### Step 4 Setting up loss functions and Optimizers\n",
    "Loss function is your objective to train the neural networks. Typically, we use multi-class cross entropy as objectives for classification models (e.g., CIFAR-10, MNIST). In this homework, we use SGD optimizer with momentum as our optimizer. You need to formulate the cross-entropy loss function in PyTorch.\n",
    "You should also specify a PyTorch Optimizer to optimize this loss function."
   ]
  },
  {
   "cell_type": "code",
   "execution_count": 9,
   "metadata": {},
   "outputs": [],
   "source": [
    "#L1 regularization\n",
    "def get_l1_reg(model):\n",
    "    l1_reg = 0.\n",
    "    for param in model.parameters():\n",
    "        l1_reg += param.abs().sum()\n",
    "    return l1_reg\n",
    "\n",
    "# Create loss function and specify regularization\n",
    "criterion = nn.CrossEntropyLoss()\n",
    "# Add optimizer\n",
    "#REG = 0\n",
    "optimizer = optim.SGD(params=net.parameters(), lr=current_learning_rate, momentum=MOMENTUM, weight_decay=REG, nesterov=False)"
   ]
  },
  {
   "cell_type": "markdown",
   "metadata": {},
   "source": [
    "### Step 5: Start the training process.\n",
    "Congratulations! You have completed all of the previous steps and it is time to train our neural network.\n",
    "Training a neural network usually composes the following 3 parts: \n",
    "\n",
    "**i) Get a batch of data from the dataloader and copy it to your device (GPU)**\n",
    "\n",
    "**ii) Do a forward pass to get the output logits from the neural network. Compute the forward loss.**\n",
    "\n",
    "**iii) Do a backward pass (back-propagation) to compute gradients of all weights with respect to the loss.**\n",
    "\n",
    "You will also need to compute accuracy within all these parts to justify that your model is doing well on the dataset.\n"
   ]
  },
  {
   "cell_type": "code",
   "execution_count": 10,
   "metadata": {},
   "outputs": [
    {
     "name": "stdout",
     "output_type": "stream",
     "text": [
      "Optimization finished.\n"
     ]
    }
   ],
   "source": [
    "# Start the training/validation process\n",
    "# The process should take about 5 minutes on a GTX 1070-Ti\n",
    "# if the code is written efficiently.\n",
    "list_val = []\n",
    "list_train = []\n",
    "global_step = 0\n",
    "best_val_acc = 0\n",
    "EPOCHS = 100\n",
    "for i in range(start_epoch, EPOCHS):\n",
    "#     print(datetime.datetime.now())\n",
    "    # Switch to train mode\n",
    "    net.train()\n",
    "#     print(\"Epoch %d:\" %i)\n",
    "\n",
    "    total_examples = 0\n",
    "    correct_examples = 0\n",
    "\n",
    "    train_loss = 0\n",
    "    train_acc = 0\n",
    "    \n",
    "    # Train the training dataset for 1 epoch.\n",
    "    for batch_idx, (inputs, targets) in enumerate(trainloader):\n",
    "        # Copy inputs to device\n",
    "        inputs = inputs.to(device)\n",
    "        targets = targets.to(device)\n",
    "        # Zero the gradient\n",
    "        optimizer.zero_grad()\n",
    "        # Generate output\n",
    "        outputs = net(inputs)\n",
    "        loss = criterion(outputs, targets) #+ 0.0001 * get_l1_reg(net)\n",
    "        # Now backward loss\n",
    "        loss.backward()\n",
    "        # Apply gradient\n",
    "        optimizer.step()\n",
    "        # Calculate predicted labels\n",
    "        _, predicted = outputs.max(1)\n",
    "        total_examples += predicted.size(0)\n",
    "        correct_examples += predicted.eq(targets).sum().item()\n",
    "        train_loss += loss\n",
    "        global_step += 1\n",
    "                \n",
    "    avg_loss = train_loss / (batch_idx + 1)\n",
    "    avg_acc = correct_examples / total_examples\n",
    "    list_train.append(avg_acc)\n",
    "#     print(\"Training loss: %.4f, Training accuracy: %.4f\" %(avg_loss, avg_acc))\n",
    "#     print(datetime.datetime.now())\n",
    "    # Validate on the validation dataset\n",
    "#     print(\"Validation...\")\n",
    "    total_examples = 0\n",
    "    correct_examples = 0\n",
    "    \n",
    "    net.eval()\n",
    "\n",
    "    val_loss = 0\n",
    "    val_acc = 0\n",
    "    # Disable gradient during validation\n",
    "    with torch.no_grad():\n",
    "        for batch_idx, (inputs, targets) in enumerate(valloader):\n",
    "            # Copy inputs to device\n",
    "            inputs = inputs.to(device)\n",
    "            targets = targets.to(device)\n",
    "            # Zero the gradient\n",
    "            optimizer.zero_grad()\n",
    "            # Generate output from the DNN.\n",
    "            outputs = net(inputs)\n",
    "            loss = criterion(outputs, targets) #+ 0.0001 * get_l1_reg(net)            \n",
    "            # Calculate predicted labels\n",
    "            _, predicted = outputs.max(1)\n",
    "            total_examples += predicted.size(0)\n",
    "            correct_examples += predicted.eq(targets).sum().item()\n",
    "            val_loss += loss\n",
    "\n",
    "    avg_loss = val_loss / len(valloader)\n",
    "    avg_acc = correct_examples / total_examples\n",
    "#     print(avg_acc)\n",
    "    list_val.append(avg_acc)\n",
    "#     print(\"Validation loss: %.4f, Validation accuracy: %.4f\" % (avg_loss, avg_acc))\n",
    "\n",
    "    # Handle the learning rate scheduler.\n",
    "    if i % DECAY_EPOCHS == 0 and i != 0:\n",
    "        current_learning_rate = current_learning_rate * DECAY\n",
    "        for param_group in optimizer.param_groups:\n",
    "            param_group['lr'] = current_learning_rate\n",
    "#         print(\"Current learning rate has decayed to %f\" %current_learning_rate)\n",
    "    \n",
    "    # Save for checkpoint\n",
    "    if avg_acc > best_val_acc:\n",
    "        best_val_acc = avg_acc\n",
    "        if not os.path.exists(CHECKPOINT_PATH):\n",
    "            os.makedirs(CHECKPOINT_PATH)\n",
    "#         print(\"Saving ...\")\n",
    "        state = {'net': net.state_dict(),\n",
    "                 'epoch': i,\n",
    "                 'lr': current_learning_rate}\n",
    "        torch.save(state, os.path.join(CHECKPOINT_PATH, 'model.h5'))\n",
    "\n",
    "print(\"Optimization finished.\")"
   ]
  },
  {
   "cell_type": "code",
   "execution_count": 11,
   "metadata": {},
   "outputs": [],
   "source": [
    "# \"\"\"\n",
    "# Lab 3(a)\n",
    "# \"\"\"\n",
    "# plt.figure(figsize = (16,8))\n",
    "# idx = 1\n",
    "# plt.suptitle(\"Weights Distribution for L2 regularization\")\n",
    "# for name, module in net.named_modules():\n",
    "    \n",
    "#     if isinstance(module, nn.Conv2d) or isinstance(module, nn.Linear):\n",
    "#         # Get the weight of the module as a NumPy array\n",
    "\n",
    "#         weight =  module.weight.cpu().detach().numpy()\n",
    "#         #Reshape for histogram\n",
    "#         weight = weight.reshape(-1)\n",
    "#         plt.subplot(2,3,idx)\n",
    "#         _ = plt.hist(weight, bins=20)\n",
    "#         plt.title(\"Weight histogram of layer \"+name)\n",
    "#         idx +=1\n",
    "# plt.show()"
   ]
  },
  {
   "cell_type": "code",
   "execution_count": 16,
   "metadata": {},
   "outputs": [
    {
     "data": {
      "text/plain": [
       "Text(0, 0.5, 'Validation Accuracy')"
      ]
     },
     "execution_count": 16,
     "metadata": {},
     "output_type": "execute_result"
    },
    {
     "data": {
      "image/png": "[encoded data removed]",
      "text/plain": [
       "<Figure size 720x576 with 1 Axes>"
      ]
     },
     "metadata": {
      "needs_background": "light"
     },
     "output_type": "display_data"
    }
   ],
   "source": [
    "plt.figure(figsize =(10,8))\n",
    "plt.title(\" Accuracy vs Epochs\" )\n",
    "# plt.plot(range(start_epoch, EPOCHS), list_val, '-o',label = \"val\")\n",
    "plt.plot(range(0, EPOCHS), list_val, '-o', label = \"validation\")\n",
    "plt.plot(range(0, EPOCHS), list_train, '-o', label = \"train\")\n",
    "plt.legend(loc=\"lower right\")\n",
    "plt.xlabel('EPOCHS')\n",
    "plt.ylabel('Validation Accuracy')"
   ]
  },
  {
   "cell_type": "markdown",
   "metadata": {},
   "source": [
    "### Try learning rate"
   ]
  },
  {
   "cell_type": "markdown",
   "metadata": {},
   "source": [
    "\n",
    "## Plot LAB2 (c)"
   ]
  },
  {
   "cell_type": "code",
   "execution_count": 13,
   "metadata": {},
   "outputs": [],
   "source": [
    "# list_val_lr = pd.read_csv(\"val_lr\").iloc[:,1:-1].values.tolist()\n",
    "# list_train_lr = pd.read_csv(\"train_lr\").iloc[:,1:-1].values.tolist()\n",
    "# list_val_reg = pd.read_csv(\"val_reg\").iloc[:,1:-1].values.tolist()\n",
    "# list_train_reg = pd.read_csv(\"train_reg\").iloc[:,1:-1].values.tolist()\n",
    "# lrs = [1.0, 0.1, 0.05, 0.02, 0.01, 0.005, 0.002, 0.001]\n",
    "# regs= [0.01, 0.001, 0.0001, 0.00001, 0.0]\n",
    "# EPOCHS = 30\n",
    "# start_epoch = 1\n",
    "# def plot_3(list_all,list_, label, label1, start_epoch = 1,EPOCHS = 30):\n",
    "#     for i in range(len(list_all)):\n",
    "#         plt.title(label + \" Accuracy vs Epochs for \" + label1)\n",
    "#         # plt.plot(range(start_epoch, EPOCHS), list_val, '-o',label = \"val\")\n",
    "#         plt.plot(range(start_epoch, EPOCHS), list_all[i], '-o', label = label1 + \" =\" + str(list_[i]))\n",
    "#         plt.legend(loc=\"lower right\")\n",
    "#         plt.xlabel('EPOCHS')\n",
    "#         plt.ylabel(label + ' Accuracy')\n",
    "# plt.figure(figsize = (10,10))\n",
    "# plt.subplot(2,2,1)\n",
    "# plot_3(list_train_lr,lrs,\"Train\", \" Learning Rate\")\n",
    "\n",
    "# # plt.figure(2)\n",
    "# plt.subplot(2,2,2)\n",
    "# plot_3(list_val_lr,lrs,\"Validation\",\" Learning Rate\" )\n",
    "\n",
    "# plt.subplot(2,2,3)\n",
    "# plot_3(list_train_reg,regs,\"Train\", \" Regularization\")\n",
    "\n",
    "# plt.subplot(2,2,4)\n",
    "# plot_3(list_val_reg,regs,\"Validation\",\" Regularization\")"
   ]
  },
  {
   "cell_type": "code",
   "execution_count": null,
   "metadata": {},
   "outputs": [],
   "source": []
  }
 ],
 "metadata": {
  "kernelspec": {
   "display_name": "Python 3",
   "language": "python",
   "name": "python3"
  },
  "language_info": {
   "codemirror_mode": {
    "name": "ipython",
    "version": 3
   },
   "file_extension": ".py",
   "mimetype": "text/x-python",
   "name": "python",
   "nbconvert_exporter": "python",
   "pygments_lexer": "ipython3",
   "version": "3.7.6"
  }
 },
 "nbformat": 4,
 "nbformat_minor": 4
}
