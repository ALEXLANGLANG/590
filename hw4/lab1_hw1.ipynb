{
 "cells": [
  {
   "cell_type": "markdown",
   "metadata": {},
   "source": [
    "# Lab1"
   ]
  },
  {
   "cell_type": "markdown",
   "metadata": {},
   "source": [
    "### (a)\n",
    "$\\nabla L = 2\\sum_i(X_iW - y_i)X_i^T$ , $i \\in \\{1,2,3\\}$ \n",
    "\n",
    "$W^{k+1} = W^k -  2u\\sum_i(X_iW^k - y_i)X_i^T$, $i \\in \\{1,2,3\\}$"
   ]
  },
  {
   "cell_type": "markdown",
   "metadata": {},
   "source": [
    "### (b)\n",
    "From the figure we can see W is converging to an optimal solution where the loss is very small,  but it keeps oscillating around this optimal solution. \n",
    "\n",
    "W is not a sparse solution as most of elements of W is non-zero.\n",
    "\n",
    "### (c)\n",
    "Yes. W is converging to an optimal solution.\n",
    "\n",
    "W is converging to a sparse solution where only two elements of W are non-zero.\n",
    "\n",
    "### (d)\n",
    "\n",
    "From the figure we can see that performace of L1 is not good, based on $\\lambda$s given by the question. For $\\lambda = 0.2$, it converges to a point instead of an optimum and then oscillate around this point but we can see two weights of W are converging to 0.   As we increase $\\lambda$, we can see the we can have three weights are converging and oscillating at 0 but the loss function reach a point with larger loss which is not good. In conclusion, it is important for us to choose a good $\\lambda$. If $\\lambda$ is too large, we will have a more sparse solution but not an optimum. If $\\lambda$ is too small, we may have a less sparse solution but close to an optimum.  \n",
    "\n",
    "\n",
    "### (e)\n",
    "\n",
    "\n",
    "### (f)"
   ]
  },
  {
   "cell_type": "code",
   "execution_count": null,
   "metadata": {},
   "outputs": [],
   "source": []
  }
 ],
 "metadata": {
  "kernelspec": {
   "display_name": "Python 3",
   "language": "python",
   "name": "python3"
  },
  "language_info": {
   "codemirror_mode": {
    "name": "ipython",
    "version": 3
   },
   "file_extension": ".py",
   "mimetype": "text/x-python",
   "name": "python",
   "nbconvert_exporter": "python",
   "pygments_lexer": "ipython3",
   "version": "3.8.3"
  }
 },
 "nbformat": 4,
 "nbformat_minor": 4
}
