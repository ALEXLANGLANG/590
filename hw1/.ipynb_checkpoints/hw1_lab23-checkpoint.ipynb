{
 "cells": [
  {
   "cell_type": "markdown",
   "metadata": {},
   "source": [
    "### Code block 1: Package initialization\n",
    "Import required packages, do not change."
   ]
  },
  {
   "cell_type": "code",
   "execution_count": 6,
   "metadata": {},
   "outputs": [],
   "source": [
    "import argparse\n",
    "import os, sys\n",
    "import time\n",
    "import datetime\n",
    "import math\n",
    "import numpy as np\n",
    "import matplotlib.pyplot as plt\n",
    "\n",
    "# Import pytorch dependencies\n",
    "import torch\n",
    "import torch.nn as nn\n",
    "import torch.nn.functional as F\n",
    "import torch.optim as optim\n",
    "from torch.nn.modules.utils import _single, _pair, _triple\n"
   ]
  },
  {
   "cell_type": "markdown",
   "metadata": {},
   "source": [
    "\\### Code block 2: Useful classes\n",
    "Customized implementation of [nn.Conv2d](https://pytorch.org/docs/stable/generated/torch.nn.Conv2d.html) and [nn.Linear](https://pytorch.org/docs/stable/generated/torch.nn.Linear.html#torch.nn.Linear), do not change."
   ]
  },
  {
   "cell_type": "code",
   "execution_count": 7,
   "metadata": {},
   "outputs": [],
   "source": [
    "class CONV(nn.Conv2d):\n",
    "    def __init__(self, in_channels, out_channels, kernel_size, stride=1,\n",
    "                 padding=0, dilation=1, groups=1,\n",
    "                 bias=False, padding_mode='zeros'):\n",
    "        self.input = None\n",
    "        self.output = None\n",
    "        kernel_size = _pair(kernel_size)\n",
    "        stride = _pair(stride)\n",
    "        padding = _pair(padding)\n",
    "        dilation = _pair(dilation)\n",
    "        super(CONV, self).__init__(\n",
    "            in_channels, out_channels, kernel_size, stride, padding, dilation, \n",
    "            groups, bias, padding_mode)\n",
    "    \n",
    "    def forward(self, input):\n",
    "        self.input = input\n",
    "        if '1.5' in torch.__version__:\n",
    "            self.output = self._conv_forward(input, self.weight) #1.5\n",
    "        elif '1.4' in torch.__version__:\n",
    "            self.output = self.conv2d_forward(input, self.weight) #1.4\n",
    "        return self.output\n",
    "    \n",
    "class FC(nn.Linear):\n",
    "    def __init__(self, in_features, out_features, bias=True):\n",
    "        self.input = None\n",
    "        self.output = None\n",
    "        super(FC, self).__init__(in_features, out_features, bias)\n",
    "    \n",
    "    def forward(self, input):\n",
    "        self.input = input\n",
    "        self.output = F.linear(input, self.weight, self.bias)\n",
    "        return self.output"
   ]
  },
  {
   "cell_type": "markdown",
   "metadata": {},
   "source": [
    "## Lab 2\n",
    "\n",
    "### Code block 3: LeNet-5 implementation\n",
    "\n",
    "Please follow the instructions in Lab 2(a) and fill in the code in the lines marked **Your code here**"
   ]
  },
  {
   "cell_type": "code",
   "execution_count": 9,
   "metadata": {
    "scrolled": false
   },
   "outputs": [
    {
     "name": "stdout",
     "output_type": "stream",
     "text": [
      "Run on CPU...\n",
      "Forward pass successful\n"
     ]
    }
   ],
   "source": [
    "\"\"\" \n",
    "Lab 2(a)\n",
    "Build the LeNet-5 model by following Table 1\n",
    "\"\"\"\n",
    "\n",
    "# Create the neural network module: LeNet-5\n",
    "class LeNet5(nn.Module):\n",
    "    def __init__(self):\n",
    "        super(LeNet5, self).__init__()\n",
    "        # Layer definition\n",
    "        self.conv1 = CONV(3,6,5)    #Your code here\n",
    "        self.conv2 = CONV(6,16,5)    #Your code here\n",
    "        self.fc1   = FC(400, 120)    #Your code here\n",
    "        self.fc2   = FC(120, 84)     #Your code here\n",
    "        self.fc3   = FC(84, 10)    #Your code here\n",
    "\n",
    "    def forward(self, x):\n",
    "        # Forward pass computation\n",
    "        # Conv 1\n",
    "        out = F.relu(self.conv1(x))\n",
    "        # MaxPool\n",
    "        mp1 = nn.MaxPool2d(2,2)\n",
    "        out = mp1(out)\n",
    "        # Conv 2\n",
    "        out = F.relu(self.conv2(out))\n",
    "        # MaxPool\n",
    "        mp2 = nn.MaxPool2d(2,2)\n",
    "        out = mp2(out)\n",
    "        # Flatten\n",
    "        out = out.reshape(out.shape[0],-1)\n",
    "        # FC 1\n",
    "        out = F.relu(self.fc1(out))\n",
    "        # FC 2\n",
    "        out = F.relu(self.fc2(out))\n",
    "        # FC 3\n",
    "        out = self.fc3(out)\n",
    "        return out\n",
    "\n",
    "# GPU check                \n",
    "device = 'cuda' if torch.cuda.is_available() else 'cpu'\n",
    "if device =='cuda':\n",
    "    print(\"Run on GPU...\")\n",
    "else:\n",
    "    print(\"Run on CPU...\")\n",
    "\n",
    "# Model Definition  \n",
    "net = LeNet5()\n",
    "net = net.to(device)\n",
    "\n",
    "# Test forward pass\n",
    "data = torch.randn(5,3,32,32)\n",
    "data = data.to(device)\n",
    "\n",
    "# Forward pass \"data\" through \"net\" to get output \"out\" \n",
    "out =  net(data) #Your code here\n",
    "\n",
    "# Check output shape\n",
    "assert(out.detach().cpu().numpy().shape == (5,10))\n",
    "print(\"Forward pass successful\")"
   ]
  },
  {
   "cell_type": "markdown",
   "metadata": {},
   "source": [
    "### Code block 4: Shape observation\n",
    "Please follow the instructions in Lab 2(a) and fill in the code in the lines marked **Your code here**. Gather the printed results in Table 2 in your report."
   ]
  },
  {
   "cell_type": "code",
   "execution_count": 10,
   "metadata": {
    "scrolled": false
   },
   "outputs": [
    {
     "name": "stdout",
     "output_type": "stream",
     "text": [
      "conv1      (1, 3, 32, 32)       (1, 6, 28, 28)       (6, 3, 5, 5)         450        352800.0  \n",
      "conv2      (1, 6, 14, 14)       (1, 16, 10, 10)      (16, 6, 5, 5)        2400       240000.0  \n",
      "fc1        (1, 400)             (1, 120)             (120, 400)           48000      48000.0   \n",
      "fc2        (1, 120)             (1, 84)              (84, 120)            10080      10080.0   \n",
      "fc3        (1, 84)              (1, 10)              (10, 84)             840        840.0     \n"
     ]
    }
   ],
   "source": [
    "\"\"\"\n",
    "Lab 2(b)\n",
    "\"\"\"\n",
    "# Forward pass of a single image\n",
    "data = torch.randn(1,3,32,32).to(device)\n",
    "# Forward pass \"data\" through \"net\" to get output \"out\" \n",
    "out =  net(data)   #Your code here\n",
    "\n",
    "# Iterate through all the CONV and FC layers of the model\n",
    "for name, module in net.named_modules():\n",
    "    \n",
    "    if isinstance(module, CONV) or isinstance(module, FC):\n",
    "        \n",
    "        # Get the input feature map of the module as a NumPy array\n",
    "        input =     module.input.detach().numpy() \n",
    "        # Get the output feature map of the module as a NumPy array\n",
    "        output =     module.output.detach().numpy() \n",
    "        # Get the weight of the module as a NumPy array\n",
    "        weight =      module.weight.detach().numpy()\n",
    "\n",
    "        # Compute the number of parameters in the weight\n",
    "        num_Param =     torch.numel(module.weight)\n",
    "        # Compute the number of MACs in the layer\n",
    "        num_MAC =  torch.numel(module.weight)*torch.numel(module.output)/ output.shape[1] \n",
    "\n",
    "        print(f'{name:10} {str(input.shape):20} {str(output.shape):20} {str(weight.shape):20} {str(num_Param):10} {str(num_MAC):10}')\n"
   ]
  },
  {
   "cell_type": "markdown",
   "metadata": {},
   "source": [
    "## Lab 3 (Bonus)\n",
    "\n",
    "### Code block 5: Initial weight histogram\n",
    "Please follow the instructions in Lab 3(a) and fill in the code in the lines marked **Your code here**. Copy the output figures into your report."
   ]
  },
  {
   "cell_type": "code",
   "execution_count": null,
   "metadata": {
    "scrolled": false
   },
   "outputs": [],
   "source": [
    "\"\"\"\n",
    "Lab 3(a)\n",
    "\"\"\"\n",
    "for name, module in net.named_modules():\n",
    "    if isinstance(module, CONV) or isinstance(module, FC):\n",
    "        # Get the weight of the module as a NumPy array\n",
    "        weight =  module.weight.detach().numpy()\n",
    "        #Reshape for histogram\n",
    "        weight = weight.reshape(-1)\n",
    "        _ = plt.hist(weight, bins=20)\n",
    "        plt.title(\"Weight histogram of layer \"+name)\n",
    "        plt.show()"
   ]
  },
  {
   "cell_type": "markdown",
   "metadata": {},
   "source": [
    "### Code block 6: Gradient histogram\n",
    "Please follow the instructions in Lab 3(b) and fill in the code in the lines marked **Your code here**. Copy the output figures into your report."
   ]
  },
  {
   "cell_type": "code",
   "execution_count": 6,
   "metadata": {
    "scrolled": false
   },
   "outputs": [
    {
     "data": {
      "image/png": "[encoded data removed]",
      "text/plain": [
       "<Figure size 432x288 with 1 Axes>"
      ]
     },
     "metadata": {
      "needs_background": "light"
     },
     "output_type": "display_data"
    },
    {
     "data": {
      "image/png": "[encoded data removed]",
      "text/plain": [
       "<Figure size 432x288 with 1 Axes>"
      ]
     },
     "metadata": {
      "needs_background": "light"
     },
     "output_type": "display_data"
    },
    {
     "data": {
      "image/png": "[encoded data removed]",
      "text/plain": [
       "<Figure size 432x288 with 1 Axes>"
      ]
     },
     "metadata": {
      "needs_background": "light"
     },
     "output_type": "display_data"
    },
    {
     "data": {
      "image/png": "[encoded data removed]",
      "text/plain": [
       "<Figure size 432x288 with 1 Axes>"
      ]
     },
     "metadata": {
      "needs_background": "light"
     },
     "output_type": "display_data"
    },
    {
     "data": {
      "image/png": "[encoded data removed]",
      "text/plain": [
       "<Figure size 432x288 with 1 Axes>"
      ]
     },
     "metadata": {
      "needs_background": "light"
     },
     "output_type": "display_data"
    }
   ],
   "source": [
    "'''\n",
    "Lab 3(b)\n",
    "'''\n",
    "# Loss definition\n",
    "criterion = nn.MSELoss()\n",
    "# Random target\n",
    "target = torch.randn(1, 10).to(device)\n",
    "\n",
    "# Loss computation\n",
    "loss =  criterion(out, target)\n",
    "# Backward pass for gradients\n",
    "loss.backward()\n",
    "\n",
    "for name, module in net.named_modules():\n",
    "    if isinstance(module, CONV) or isinstance(module, FC):\n",
    "        # Get the gradient of the module as a NumPy array\n",
    "        gradient =   module.weight.grad.detach().numpy()\n",
    "\n",
    "        # Reshape for histogram\n",
    "        gradient = gradient.reshape(-1)\n",
    "        _ = plt.hist(gradient, bins=20)\n",
    "        plt.title(\"Gradient histogram of layer \"+name)\n",
    "        plt.show()\n"
   ]
  },
  {
   "cell_type": "markdown",
   "metadata": {},
   "source": [
    "### Code block 7: Zero initialization?\n",
    "Please follow the instructions in Lab 3(c) and fill in the code in the lines marked **Your code here**. Copy the output figures into your report."
   ]
  },
  {
   "cell_type": "code",
   "execution_count": 7,
   "metadata": {},
   "outputs": [
    {
     "data": {
      "image/png": "[encoded data removed]",
      "text/plain": [
       "<Figure size 432x288 with 1 Axes>"
      ]
     },
     "metadata": {
      "needs_background": "light"
     },
     "output_type": "display_data"
    },
    {
     "data": {
      "image/png": "[encoded data removed]",
      "text/plain": [
       "<Figure size 432x288 with 1 Axes>"
      ]
     },
     "metadata": {
      "needs_background": "light"
     },
     "output_type": "display_data"
    },
    {
     "data": {
      "image/png": "[encoded data removed]",
      "text/plain": [
       "<Figure size 432x288 with 1 Axes>"
      ]
     },
     "metadata": {
      "needs_background": "light"
     },
     "output_type": "display_data"
    },
    {
     "data": {
      "image/png": "[encoded data removed]",
      "text/plain": [
       "<Figure size 432x288 with 1 Axes>"
      ]
     },
     "metadata": {
      "needs_background": "light"
     },
     "output_type": "display_data"
    },
    {
     "data": {
      "image/png": "[encoded data removed]",
      "text/plain": [
       "<Figure size 432x288 with 1 Axes>"
      ]
     },
     "metadata": {
      "needs_background": "light"
     },
     "output_type": "display_data"
    }
   ],
   "source": [
    "'''\n",
    "Lab 3(c)\n",
    "'''\n",
    "# Set model weights to zero\n",
    "for name, module in net.named_modules():\n",
    "    if isinstance(module, CONV) or isinstance(module, FC):\n",
    "        # Set the weight of each module to all zero\n",
    "        module.weight.data.fill_(0.0)\n",
    "\n",
    "\n",
    "# Reset gradients\n",
    "net.zero_grad()\n",
    "        \n",
    "# Forward and backward pass\n",
    "# Random data and target\n",
    "data = torch.randn(1,3,32,32).to(device)\n",
    "target = torch.randn(1, 10).to(device)\n",
    "\n",
    "# Forward pass\n",
    "out =     net(data)\n",
    "# Loss computation\n",
    "loss =     criterion(out, target)\n",
    "# Backward pass\n",
    "loss.backward()\n",
    "\n",
    "for name, module in net.named_modules():\n",
    "    if isinstance(module, CONV) or isinstance(module, FC):\n",
    "        # Get the gradient of the module as a NumPy array\n",
    "        gradient =  module.weight.grad.detach().numpy()\n",
    "        \n",
    "        # Reshape for histogram\n",
    "        gradient = gradient.reshape(-1)\n",
    "        _ = plt.hist(gradient, bins=20)\n",
    "        plt.title(\"Gradient histogram of layer \"+name)\n",
    "        plt.show()"
   ]
  },
  {
   "cell_type": "code",
   "execution_count": null,
   "metadata": {},
   "outputs": [],
   "source": []
  }
 ],
 "metadata": {
  "kernelspec": {
   "display_name": "Python 3",
   "language": "python",
   "name": "python3"
  },
  "language_info": {
   "codemirror_mode": {
    "name": "ipython",
    "version": 3
   },
   "file_extension": ".py",
   "mimetype": "text/x-python",
   "name": "python",
   "nbconvert_exporter": "python",
   "pygments_lexer": "ipython3",
   "version": "3.8.3"
  }
 },
 "nbformat": 4,
 "nbformat_minor": 4
}
